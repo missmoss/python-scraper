{
 "cells": [
  {
   "cell_type": "markdown",
   "metadata": {},
   "source": [
    "###Prepare the connection\n",
    "1. Apply a Google Places Web Service API key on [Google Developers Console](http://console.developers.google.com/)\n",
    "2. Save the key as an json file in the same folder of the python script\n",
    "3. import the modules we need and set up a credential connection to Google Places API\n",
    "(If you didn't install 'googleplaces' module before, go to terminal and type `pip install https://github.com/slimkrazy/python-google-places/zipball/master` to install the module)"
   ]
  },
  {
   "cell_type": "code",
   "execution_count": 7,
   "metadata": {
    "collapsed": true
   },
   "outputs": [],
   "source": [
    "import json  #for reading oauth info and save the results\n",
    "import io \n",
    "from googleplaces import GooglePlaces, types, lang\n",
    "from pprint import pprint"
   ]
  },
  {
   "cell_type": "code",
   "execution_count": 1,
   "metadata": {
    "collapsed": true
   },
   "outputs": [],
   "source": [
    "with io.open('google_places_key.json') as cred:\n",
    "    creds = json.load(cred)\n",
    "    google_places = GooglePlaces(**creds)"
   ]
  },
  {
   "cell_type": "markdown",
   "metadata": {},
   "source": [
    "### Get data from API\n",
    "Every account can excuete 1,000 API calls within 24 hours. The response limit of every search is 20. So again we have to narrow down the search criteria to get more data. Let's begin with the geometry of Boston Downtown Crossing.\n",
    "> For the parameters you can set up in the following query, go to [Documentation](https://developers.google.com/places/web-service/search)"
   ]
  },
  {
   "cell_type": "code",
   "execution_count": 28,
   "metadata": {
    "collapsed": true
   },
   "outputs": [],
   "source": [
    "    query_result = google_places.nearby_search(\n",
    "        lat_lng = {'lat': 42.3555885, 'lng': -71.0646816}, rankby = 'distance', types = [types.TYPE_FOOD])"
   ]
  },
  {
   "cell_type": "markdown",
   "metadata": {},
   "source": [
    "Then we check if we get any results from API and print some information to the screen."
   ]
  },
  {
   "cell_type": "code",
   "execution_count": 34,
   "metadata": {
    "collapsed": false
   },
   "outputs": [
    {
     "name": "stdout",
     "output_type": "stream",
     "text": [
      "status: OK\n",
      "next_page_token: CoQC-AAAAIPcUTL0pCzXoSTzALHY2OFzcZwG4e6Ur8O005U6CcGy4_xjE0fPanSwjKHFR3xmGthmw4Q5qUobFgVnC567y9wKPFyfYaakMe6M380iRPFBR6vgr4lGtMbxsN1mcn6rvmk8OZU_6QYKMSwIuMrl7CjiSAjs6IQfd0ZsMm6OQ8KWndzXw97vdSZjmtZRFHQCIil6jQAd0Wu0_VFaS48oIaA2LMS0aXddYLHIRQ3ew2LGRkBfY0eDLtm2SHK6n3_04tlVnGTWFOvt8axCtPDtF14JFEKNH1DuVXbo8i8dKTq_ELQzjjMonhI8986uyfx3j_E5PnEZNDCefpbQR_pSob0SEPROwyFCe6maxSt8IeG0c_saFAh_NC1xvlTnlpRrRIUZHcnuGlLy\n",
      "number of results: 20\n"
     ]
    }
   ],
   "source": [
    "    if query_result.raw_response:\n",
    "        print 'status: ' + query_result.raw_response['status']\n",
    "        print 'next_page_token: ' + query_result.raw_response['next_page_token']\n",
    "        print 'number of results: ' + str(len(query_result.raw_response['results']))"
   ]
  },
  {
   "cell_type": "markdown",
   "metadata": {},
   "source": [
    "The response from API above contains many information:\n",
    "1. A 'next_page_token': Use this token at your next search assigned to parameter 'pagetoken' and you'll get the following 20 results of your previous serach.\n",
    "2. Your 'results' of places: These are the data we want. But only few basic informatino here, so we have to get more details in the follwing steps."
   ]
  },
  {
   "cell_type": "markdown",
   "metadata": {},
   "source": [
    "### Look into details of the data\n",
    "We use `vars(object)` to extend all the information in the object:\n",
    "> To see all the response values and their definitinos in places, go to [Google Places Search Results](https://developers.google.com/places/web-service/search#PlaceSearchResults)"
   ]
  },
  {
   "cell_type": "code",
   "execution_count": 35,
   "metadata": {
    "collapsed": false
   },
   "outputs": [
    {
     "name": "stdout",
     "output_type": "stream",
     "text": [
      "{'_details': None,\n",
      " '_geo_location': {u'lat': Decimal('42.3552522'),\n",
      "                   u'lng': Decimal('-71.0631123')},\n",
      " '_icon': u'https://maps.gstatic.com/mapfiles/place_api/icons/restaurant-71.png',\n",
      " '_id': u'be4e4ce5b3f8c5e7dcc2c062f513b3fd6b80ac8b',\n",
      " '_name': u\"McDonald's\",\n",
      " '_place_id': u'ChIJe645PYNw44kR_0ilqhElTKw',\n",
      " '_query_instance': <googleplaces.GooglePlaces object at 0x1072d2c50>,\n",
      " '_rating': Decimal('2.8'),\n",
      " '_reference': u'CmReAAAAqCf3_wkutntZ4rLnClC9f3nfljrVfCCb4NJlnz8iX3Kf78wtDQH7FdxtHm4XCp34gAIKob9o2RjNaKHrBv5ZHTeRg1RLEHo0I7O4VJcKSV9e3gblPUesQgpin8zvpJ3_EhDGGCtjQP59RgoRSTVT-eoYGhScqS1jrtsq1RQmlXAamJf_rJ0UgA',\n",
      " '_types': [u'restaurant', u'food', u'point_of_interest', u'establishment'],\n",
      " '_vicinity': u'146 Tremont Street, Boston'}\n",
      "{'_details': {u'address_components': [{u'long_name': u'146',\n",
      "                                       u'short_name': u'146',\n",
      "                                       u'types': [u'street_number']},\n",
      "                                      {u'long_name': u'Tremont Street',\n",
      "                                       u'short_name': u'Tremont St',\n",
      "                                       u'types': [u'route']},\n",
      "                                      {u'long_name': u'Boston',\n",
      "                                       u'short_name': u'Boston',\n",
      "                                       u'types': [u'locality',\n",
      "                                                  u'political']},\n",
      "                                      {u'long_name': u'Massachusetts',\n",
      "                                       u'short_name': u'MA',\n",
      "                                       u'types': [u'administrative_area_level_1',\n",
      "                                                  u'political']},\n",
      "                                      {u'long_name': u'United States',\n",
      "                                       u'short_name': u'US',\n",
      "                                       u'types': [u'country', u'political']},\n",
      "                                      {u'long_name': u'02111',\n",
      "                                       u'short_name': u'02111',\n",
      "                                       u'types': [u'postal_code']},\n",
      "                                      {u'long_name': u'1202',\n",
      "                                       u'short_name': u'1202',\n",
      "                                       u'types': [u'postal_code_suffix']}],\n",
      "              u'adr_address': u'<span class=\"street-address\">146 Tremont St</span>, <span class=\"locality\">Boston</span>, <span class=\"region\">MA</span> <span class=\"postal-code\">02111-1202</span>, <span class=\"country-name\">United States</span>',\n",
      "              u'formatted_address': u'146 Tremont St, Boston, MA 02111, United States',\n",
      "              u'formatted_phone_number': u'(617) 338-9876',\n",
      "              u'geometry': {u'location': {u'lat': Decimal('42.3552522'),\n",
      "                                          u'lng': Decimal('-71.0631123')}},\n",
      "              u'icon': u'https://maps.gstatic.com/mapfiles/place_api/icons/restaurant-71.png',\n",
      "              u'id': u'be4e4ce5b3f8c5e7dcc2c062f513b3fd6b80ac8b',\n",
      "              u'international_phone_number': u'+1 617-338-9876',\n",
      "              u'name': u\"McDonald's\",\n",
      "              u'opening_hours': {u'open_now': True,\n",
      "                                 u'periods': [{u'close': {u'day': 0,\n",
      "                                                          u'time': u'2200'},\n",
      "                                               u'open': {u'day': 0,\n",
      "                                                         u'time': u'0800'}},\n",
      "                                              {u'close': {u'day': 1,\n",
      "                                                          u'time': u'2200'},\n",
      "                                               u'open': {u'day': 1,\n",
      "                                                         u'time': u'0800'}},\n",
      "                                              {u'close': {u'day': 2,\n",
      "                                                          u'time': u'2200'},\n",
      "                                               u'open': {u'day': 2,\n",
      "                                                         u'time': u'0800'}},\n",
      "                                              {u'close': {u'day': 3,\n",
      "                                                          u'time': u'2200'},\n",
      "                                               u'open': {u'day': 3,\n",
      "                                                         u'time': u'0800'}},\n",
      "                                              {u'close': {u'day': 4,\n",
      "                                                          u'time': u'2200'},\n",
      "                                               u'open': {u'day': 4,\n",
      "                                                         u'time': u'0800'}},\n",
      "                                              {u'close': {u'day': 5,\n",
      "                                                          u'time': u'2200'},\n",
      "                                               u'open': {u'day': 5,\n",
      "                                                         u'time': u'0800'}},\n",
      "                                              {u'close': {u'day': 6,\n",
      "                                                          u'time': u'2200'},\n",
      "                                               u'open': {u'day': 6,\n",
      "                                                         u'time': u'0800'}}],\n",
      "                                 u'weekday_text': [u'Monday: 8:00 AM \\u2013 10:00 PM',\n",
      "                                                   u'Tuesday: 8:00 AM \\u2013 10:00 PM',\n",
      "                                                   u'Wednesday: 8:00 AM \\u2013 10:00 PM',\n",
      "                                                   u'Thursday: 8:00 AM \\u2013 10:00 PM',\n",
      "                                                   u'Friday: 8:00 AM \\u2013 10:00 PM',\n",
      "                                                   u'Saturday: 8:00 AM \\u2013 10:00 PM',\n",
      "                                                   u'Sunday: 8:00 AM \\u2013 10:00 PM']},\n",
      "              u'photos': [{u'height': 800,\n",
      "                           u'html_attributions': [u'<a href=\"https://maps.google.com/maps/contrib/115703368770201998692/photos\">Jose Rodriguez</a>'],\n",
      "                           u'photo_reference': u'CmRdAAAAruV90qjt1_7JvvmTUULMDx8FUoYYgpwbC850bZU3AW-q4WRMk2UKnOgY_pIWADNZBAgRYtcn2vRgpLKxED0-pBo1kwKyXa-kG0bYVBRmV3X9WdoF5vD7gEROYb5QXW8EEhCTzb-H-_EUrU7oj5xmH3dZGhT2t1YoP6qZDJpzWwXLkSSu-1Yeyw',\n",
      "                           u'width': 480},\n",
      "                          {u'height': 2448,\n",
      "                           u'html_attributions': [u'<a href=\"https://maps.google.com/maps/contrib/113781478627037150058/photos\">Timothy Kassis</a>'],\n",
      "                           u'photo_reference': u'CmRdAAAA4luFvNupPDLT58Utzix2RZqND9VEeRFqTbGfMefb3QugRC4PjikA9gyKJd8smf-heD0xyRN01f8jryPRshc7QLjVLJ2BvNv5WqY6JWKH8LuvaFvPFK6zNjnxpxViCZZ1EhCqaVP_pkmuqhE8Rf589ErgGhTnPVLfedy7OAAANYw4KAovgyLLtg',\n",
      "                           u'width': 3264},\n",
      "                          {u'height': 3500,\n",
      "                           u'html_attributions': [u'<a href=\"https://maps.google.com/maps/contrib/110643400660368309923/photos\">McDonald&#39;s</a>'],\n",
      "                           u'photo_reference': u'CmRdAAAAzVbNORAwEL2nGTbX9ir9XTdTvf9iCChmnBXSjJDrnKJVNlWsuPI6wQ5GFKvKeB9jqf1XrodZj0sTXudRkPGg53ZUwI_eSbI-YucZicQ58CtxU9_KUFi-p0DvFgJ6BA3zEhCyMa0f-iUyD6nM9hBvfmp6GhRiYXZtIRTMR_4lgaNVw910QwVMIA',\n",
      "                           u'width': 3500}],\n",
      "              u'place_id': u'ChIJe645PYNw44kR_0ilqhElTKw',\n",
      "              u'rating': Decimal('2.8'),\n",
      "              u'reference': u'CmReAAAAlfrFIoKqzIS0v8M4y-z5TQj54Ral5XOV8Q-J70t73NVrCrDrXNGFHQRP_-LIoBxWnyEAENMZzWFtjKYvUcHxQbbR7qTBESPshKeSo9WGYQ01Sz7a0_2kQ6ig-Ji8fjg7EhBW748BmNVvW6PhWDiYx0oGGhQ_AkJlPfTLtogtonSinAfoM-B7Rg',\n",
      "              u'reviews': [{u'aspects': [{u'rating': 0,\n",
      "                                          u'type': u'overall'}],\n",
      "                            u'author_name': u'Casey P',\n",
      "                            u'author_url': u'https://plus.google.com/106755311109474150935',\n",
      "                            u'language': u'en',\n",
      "                            u'profile_photo_url': u'//lh6.googleusercontent.com/-Gb0CWrYTvn4/AAAAAAAAAAI/AAAAAAAFJLs/FInymO9duZA/photo.jpg',\n",
      "                            u'rating': 1,\n",
      "                            u'text': u\"Very rude and clueless staff here! I asked for an egg sandwich without any meat or cheese. They said they didn't have anything of the sort and were going to charge me for a regular Egg McMuffin (which costs over $3.50 because of the sausage and cheese).\\n\\nMaking it more frustrating, the person working the register was Chinese and hardly knew how to speak English, to the point that I had to point at the menu. That was literally my experience in China, except the employees at McDonald's in China can understand you a bit quicker.\\n\\nMeanwhile a shift manager or manager or whoever he was, stood in the back looking on. He finally stepped in to lecture me that he wouldn't be giving me a discount on the sandwich. Managers are there to reduce friction and make exceptions if it keeps someone coming back. But nope, attitude instead.\",\n",
      "                            u'time': 1452565876},\n",
      "                           {u'aspects': [{u'rating': 0,\n",
      "                                          u'type': u'overall'}],\n",
      "                            u'author_name': u'Brian D',\n",
      "                            u'author_url': u'https://plus.google.com/115380442090274518928',\n",
      "                            u'language': u'en',\n",
      "                            u'profile_photo_url': u'//lh6.googleusercontent.com/-Ihdc7wi5bOs/AAAAAAAAAAI/AAAAAAABu0M/nYMVZ0kON18/photo.jpg',\n",
      "                            u'rating': 1,\n",
      "                            u'text': u\"Crowded, rude staff, and one small shared bathroom. As for the food, we didn't get anything but coffee there, and though McD coffee normally tastes pretty good, the coffee there was terrible.\",\n",
      "                            u'time': 1456450146},\n",
      "                           {u'aspects': [{u'rating': 0,\n",
      "                                          u'type': u'overall'}],\n",
      "                            u'author_name': u'Raissa Rangel',\n",
      "                            u'author_url': u'https://plus.google.com/116870482483767049647',\n",
      "                            u'language': u'en',\n",
      "                            u'rating': 1,\n",
      "                            u'text': u'By far , THE WORST PLACE EVER. \\nJust to start with,The attendant was so rude that she didn\\'t even look in my face to get my order. I tried to let it go, however, I go to Mc Donalds once a week to get my \" cheating meal\" for quite a few years now... not a big deal : 1 mc flurry with hot fudge on top, always around 3 dol.\\nAnywhere I go, for the past few years I always had the same product...same price.\\nSome stores don\\'t even charge me extra for the hot fudge, but some charge me $0.25 which is fine. \\n\\nWell, this lady decided to charge me 5 dol for the usual 3 dol Mc Flurry, and not telling me what the charge was... Surprised by the 5 dol charge, I asked if she got my order correct. She ignored me and kept looking to the door ( not sure who she was waiting for ). i asked again if the order was correct and she look at me, rolled her eyes and say \" you want hot fudge? thats the price!\" \\n\\nSo I asked to speak with the manager. She just canceled my order and got the next client WITHOUT CALLING THE MANAGER. Absolutely ignored me while I stand there looking at her. Once she finished with that customer, i stepped in and told her she wouldn\\'t get another client until she actually tell the manager Im here waiting. Are you kidding me ? She looked back to the manager ( who was actually there the entire time pretending he didn\\'t hear the situation) waved her head and without a word to me, just called the next customer. I was starting to get very upset. This is outrageous ! Specially for a company like Mc Donalds that I have never had this awful service in 10 years. Its unacceptable. \\n\\nThe manager made everything even worse. Just as rude as her, came already making a scene in front of everyone and with his zero customer service skills CLEARLY STATED THAT EVERY MC DONALDS STORE HAS THEIR OWN PRICE AND AT HIS STORE, IF I WANTED TO EAT IT THEN THAT IS THE PRICE I NEED TO PAY TO GET THE EXTRA HOT FUDGET. IF IM NOT HAPPY, LEAVE.\\n\\nyeah.. no doubt I left.\\nand will never ever come back !\\n\\nI wonder how and what kind of training a manager gets to have a job there.\\n',\n",
      "                            u'time': 1448480159},\n",
      "                           {u'aspects': [{u'rating': 0,\n",
      "                                          u'type': u'overall'}],\n",
      "                            u'author_name': u'Ella Boon',\n",
      "                            u'author_url': u'https://plus.google.com/113368663062258347464',\n",
      "                            u'language': u'en',\n",
      "                            u'rating': 1,\n",
      "                            u'text': u\"Dreadful service. Staff were rude and unhelpful. The server shouted in my partners face and raised her hand to us as we didn't say whether we wanted a 6 or 10 piece chicken meal, she then talked over us in another language to other staff and we felt very intimidated as all they did was stare at us and laugh. I will be complaining to managers as worst customer service we have both ever experienced. She was so unhelpful and tutted at us when we asked what Mc flurrys they had all she did was roll her eyes and mutter yet we were the only customers in line. Horrible and Worst Mc Donald's we have ever been to and we won't be going back. AVOID! \",\n",
      "                            u'time': 1444791351},\n",
      "                           {u'aspects': [{u'rating': 0,\n",
      "                                          u'type': u'overall'}],\n",
      "                            u'author_name': u'Jessica Anne',\n",
      "                            u'author_url': u'https://plus.google.com/100208266025165840497',\n",
      "                            u'language': u'en',\n",
      "                            u'profile_photo_url': u'//lh4.googleusercontent.com/-_KzLlkuuzSg/AAAAAAAAAAI/AAAAAAAAAIg/lMt-HaeYxos/photo.jpg',\n",
      "                            u'rating': 1,\n",
      "                            u'text': u\"DO NOT GO HERE. They charged us twice the amount by accident, then took out half of the food saying we owed more money. The cashier could barely speak English, but she was the nicest one there. The manager and another worker were being so mean to her for not knowing what to do, but she could barely understand us and they weren't helping. The food was OK, but they didn't even mix up my iced coffee. \",\n",
      "                            u'time': 1448644710}],\n",
      "              u'scope': u'GOOGLE',\n",
      "              u'types': [u'restaurant',\n",
      "                         u'food',\n",
      "                         u'point_of_interest',\n",
      "                         u'establishment'],\n",
      "              u'url': u'https://maps.google.com/?cid=12415339030561245439',\n",
      "              u'user_ratings_total': 18,\n",
      "              u'utc_offset': -240,\n",
      "              u'vicinity': u'146 Tremont Street, Boston',\n",
      "              u'website': u'https://mylocalmcds.com/tremont-street/'},\n",
      " '_geo_location': {u'lat': Decimal('42.3552522'),\n",
      "                   u'lng': Decimal('-71.0631123')},\n",
      " '_icon': u'https://maps.gstatic.com/mapfiles/place_api/icons/restaurant-71.png',\n",
      " '_id': u'be4e4ce5b3f8c5e7dcc2c062f513b3fd6b80ac8b',\n",
      " '_name': u\"McDonald's\",\n",
      " '_place_id': u'ChIJe645PYNw44kR_0ilqhElTKw',\n",
      " '_query_instance': <googleplaces.GooglePlaces object at 0x1072d2c50>,\n",
      " '_rating': Decimal('2.8'),\n",
      " '_reference': u'CmReAAAAqCf3_wkutntZ4rLnClC9f3nfljrVfCCb4NJlnz8iX3Kf78wtDQH7FdxtHm4XCp34gAIKob9o2RjNaKHrBv5ZHTeRg1RLEHo0I7O4VJcKSV9e3gblPUesQgpin8zvpJ3_EhDGGCtjQP59RgoRSTVT-eoYGhScqS1jrtsq1RQmlXAamJf_rJ0UgA',\n",
      " '_types': [u'restaurant', u'food', u'point_of_interest', u'establishment'],\n",
      " '_vicinity': u'146 Tremont Street, Boston'}\n"
     ]
    }
   ],
   "source": [
    "    for place in query_result.places:\n",
    "        pprint(vars(place))  #only get geo_location, icon, id, name, place_id, rating, types, vicinty \n",
    "        # The following method has to make a further API call.\n",
    "        place.get_details()  #get more details including phone_number, opening_hours, photos, reviews ... etc\n",
    "        pprint(vars(place))\n",
    "        break    #Here I break when we finish the first place since 20 reesults are too long."
   ]
  },
  {
   "cell_type": "markdown",
   "metadata": {},
   "source": [
    "### Scrape the data nad save them to json files\n",
    "Let's start to collect the data and save them to files for further usage. We list all the criterias we want to search for, go through them one by one, append to a list and save the list as a json file."
   ]
  },
  {
   "cell_type": "code",
   "execution_count": null,
   "metadata": {
    "collapsed": false
   },
   "outputs": [],
   "source": [
    "    result = []\n",
    "    #Put your lantitude and longtitude pairs in the list and run the search in turns\n",
    "    lan_lng_list = [{'lan': 2.356357, 'lng': -71.0623345},  #Park Street Station\n",
    "                    {'lan': 42.356357, 'lng': -71.0623345},  #China Town Station\n",
    "                    {'lat': 42.3555885, 'lng': -71.0646816}] #Downtown Crossing Station\n",
    "    for pair in lan_lng_list:\n",
    "        query_result = google_places.nearby_search(\n",
    "        lat_lng = pair, rankby = 'distance', types = [types.TYPE_FOOD])\n",
    "        for place in query_result.places:\n",
    "            place.get_details()\n",
    "            tmp = vars(place)\n",
    "            results.append(tmp)\n",
    "            \n",
    "    with open('my_boston_restaurants_google_places.json', 'wb') as f:\n",
    "        results_json = json.dumps(results, indent=4, skipkeys=True, sort_keys=True)\n",
    "        f.write(results_json)"
   ]
  },
  {
   "cell_type": "markdown",
   "metadata": {},
   "source": [
    "### Reference\n",
    "1. slimkrazy's Google Places module: [python-google-places](https://github.com/slimkrazy/python-google-places)\n",
    "2. [Documentation](https://developers.google.com/places/web-service/) of Google Places"
   ]
  }
 ],
 "metadata": {
  "kernelspec": {
   "display_name": "Python 2",
   "language": "python",
   "name": "python2"
  },
  "language_info": {
   "codemirror_mode": {
    "name": "ipython",
    "version": 2
   },
   "file_extension": ".py",
   "mimetype": "text/x-python",
   "name": "python",
   "nbconvert_exporter": "python",
   "pygments_lexer": "ipython2",
   "version": "2.7.10"
  }
 },
 "nbformat": 4,
 "nbformat_minor": 0
}
