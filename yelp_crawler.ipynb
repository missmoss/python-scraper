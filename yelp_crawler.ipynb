{
 "cells": [
  {
   "cell_type": "markdown",
   "metadata": {},
   "source": [
    "### Prepare the connection\n",
    "\n",
    "1. Apply an oauth key on yelp.com\n",
    "2. Store your oauth key in a file for safety\n",
    "3. Read the key by a credential method"
   ]
  },
  {
   "cell_type": "code",
   "execution_count": 60,
   "metadata": {
    "collapsed": false
   },
   "outputs": [],
   "source": [
    "import json  #for reading oauth info and save the results\n",
    "import io \n",
    "from yelp.client import Client\n",
    "from yelp.oauth1_authenticator import Oauth1Authenticator\n",
    "from pprint import pprint  #to better understand the result format\n",
    "\n",
    "with io.open('yelp_oauth.json') as cred:\n",
    "    creds = json.load(cred)\n",
    "    auth = Oauth1Authenticator(**creds)\n",
    "    client = Client(auth)"
   ]
  },
  {
   "cell_type": "markdown",
   "metadata": {},
   "source": [
    "Just to show the content of the authenticator:\n",
    "**(Don not run this cell)**"
   ]
  },
  {
   "cell_type": "code",
   "execution_count": null,
   "metadata": {
    "collapsed": true
   },
   "outputs": [],
   "source": [
    "auth = Oauth1Authenticator(\n",
    "    consumer_key = 'your consumer key'\n",
    "    consumer_secret = 'your consumer secret',\n",
    "    token = auth_info'your token',\n",
    "    token_secret = 'your token secret']\n",
    ")\n",
    "\n",
    "client = Client(auth)"
   ]
  },
  {
   "cell_type": "markdown",
   "metadata": {},
   "source": [
    "### Prepare the terms we'd like to search for\n",
    "The example is Boston and Boston is too huge so we search the results based on zipcodes to narraow it.\n",
    "\n",
    "I just copyed and pasted the zipcodes from a website and found it starts by 0 in Boston so I saved them as list of strings."
   ]
  },
  {
   "cell_type": "code",
   "execution_count": 114,
   "metadata": {
    "collapsed": false
   },
   "outputs": [],
   "source": [
    "zipstr = '02108, 02109, 02110, 02111, 02113, 02114, 02115, 02116, 02118, 02119, 02120, 02121, 02122, 02124, 02125, 02126, 02127, 02128, 02129, 02130, 02131, 02132, 02134, 02135, 02136, 02151, 02152, 02163, 02199, 02203, 02210, 02215, 02467'\n",
    "zips = zipstr.split(', ')"
   ]
  },
  {
   "cell_type": "markdown",
   "metadata": {},
   "source": [
    "Then set up parameters in the search:"
   ]
  },
  {
   "cell_type": "code",
   "execution_count": 123,
   "metadata": {
    "collapsed": false
   },
   "outputs": [],
   "source": [
    "params = {\n",
    "    'lang': 'en',\n",
    "    'sort': 0  #Sort mode: 0=Best matched (default), 1=Distance, 2=Highest Rated\n",
    "    #'limit': 20   limit can be 1 to 20\n",
    "    #'offset': 21  we will use this parameter later in the loop\n",
    "}"
   ]
  },
  {
   "cell_type": "markdown",
   "metadata": {},
   "source": [
    "### Start to retrieve the data!\n",
    "We begin with a test search for Boston and add the parameters we set up above:"
   ]
  },
  {
   "cell_type": "code",
   "execution_count": 126,
   "metadata": {
    "collapsed": false
   },
   "outputs": [],
   "source": [
    "response = client.search('Boston', **params)"
   ]
  },
  {
   "cell_type": "markdown",
   "metadata": {},
   "source": [
    "Then see how many restaurants we get in the search:"
   ]
  },
  {
   "cell_type": "code",
   "execution_count": 127,
   "metadata": {
    "collapsed": false
   },
   "outputs": [
    {
     "name": "stdout",
     "output_type": "stream",
     "text": [
      "The numbers of restaurants in Boston on Yelp: 22476\n"
     ]
    }
   ],
   "source": [
    "print 'The numbers of restaurants in Boston on Yelp: {}'.format(response.total)"
   ]
  },
  {
   "cell_type": "markdown",
   "metadata": {},
   "source": [
    "Since there are 22476 restaurents in Boston on yelp, we can only get 20 restaurant a time, and 1000 in total of a search criteria. That's why we try to use zipcode to narrow down the scope to get all the results of Boston."
   ]
  },
  {
   "cell_type": "markdown",
   "metadata": {},
   "source": [
    "That's take a look on the data.\n",
    "\n",
    "The responses we get are objects so we try to parse it to a readble format here:"
   ]
  },
  {
   "cell_type": "code",
   "execution_count": 128,
   "metadata": {
    "collapsed": false
   },
   "outputs": [
    {
     "name": "stdout",
     "output_type": "stream",
     "text": [
      "{'categories': [Category(name=u'Coffee & Tea', alias=u'coffee')],\n",
      " 'deals': None,\n",
      " 'display_phone': u'+1-617-227-0786',\n",
      " 'distance': None,\n",
      " 'eat24_url': None,\n",
      " 'gift_certificates': None,\n",
      " 'id': u'polcaris-coffee-boston',\n",
      " 'image_url': u'https://s3-media3.fl.yelpcdn.com/bphoto/6LSOrfE4nfNVp3omuOfWfw/ms.jpg',\n",
      " 'is_claimed': True,\n",
      " 'is_closed': False,\n",
      " 'location': {'address': [u'105 Salem St'],\n",
      "              'city': u'Boston',\n",
      "              'coordinate': {'latitude': 42.36401, 'longitude': -71.0555},\n",
      "              'country_code': u'US',\n",
      "              'cross_streets': u'Bartlett Pl & Cooper St',\n",
      "              'display_address': [u'105 Salem St',\n",
      "                                  u'North End',\n",
      "                                  u'Boston, MA 02113'],\n",
      "              'geo_accuracy': 8.0,\n",
      "              'neighborhoods': [u'North End'],\n",
      "              'postal_code': u'02113',\n",
      "              'state_code': u'MA'},\n",
      " 'menu_date_updated': 1441950074,\n",
      " 'menu_provider': u'single_platform',\n",
      " 'mobile_url': u'http://m.yelp.com/biz/polcaris-coffee-boston?utm_campaign=yelp_api&utm_medium=api_v2_search&utm_source=KA1JpBymy1oww4cX0G_WLg',\n",
      " 'name': u\"Polcari's Coffee\",\n",
      " 'phone': u'6172270786',\n",
      " 'rating': 5.0,\n",
      " 'rating_img_url': u'https://s3-media1.fl.yelpcdn.com/assets/2/www/img/f1def11e4e79/ico/stars/v1/stars_5.png',\n",
      " 'rating_img_url_large': u'https://s3-media3.fl.yelpcdn.com/assets/2/www/img/22affc4e6c38/ico/stars/v1/stars_large_5.png',\n",
      " 'rating_img_url_small': u'https://s3-media1.fl.yelpcdn.com/assets/2/www/img/c7623205d5cd/ico/stars/v1/stars_small_5.png',\n",
      " 'reservation_url': None,\n",
      " 'review_count': 138,\n",
      " 'reviews': None,\n",
      " 'snippet_image_url': u'http://s3-media1.fl.yelpcdn.com/photo/RqVPcDf5owMMaCZ5_9Vb-Q/ms.jpg',\n",
      " 'snippet_text': u'An absolutely phenomenal store. As an avid cook and tea-lover, I had been searching for a place to buy spices and teas. After reading all of the wonderful...',\n",
      " 'url': u'http://www.yelp.com/biz/polcaris-coffee-boston?utm_campaign=yelp_api&utm_medium=api_v2_search&utm_source=KA1JpBymy1oww4cX0G_WLg'}\n"
     ]
    }
   ],
   "source": [
    "b = vars(response.businesses[0])\n",
    "b['location'] = vars(response.businesses[0].location)\n",
    "b['location']['coordinate'] = vars(response.businesses[0].location['coordinate'])\n",
    "pprint(b)"
   ]
  },
  {
   "cell_type": "markdown",
   "metadata": {},
   "source": [
    "### Start to crawl all the data we want\n",
    "Since we can only fetch 20 results from yelp, we need to set up 'offset' parameter to get the rest. Also the limit of search results we can fetch is 1000, so we set up a loop of 50 times and check if we need to break the loop when the results are less than 1000."
   ]
  },
  {
   "cell_type": "code",
   "execution_count": 110,
   "metadata": {
    "collapsed": false
   },
   "outputs": [],
   "source": [
    "results = []"
   ]
  },
  {
   "cell_type": "code",
   "execution_count": null,
   "metadata": {
    "collapsed": true
   },
   "outputs": [],
   "source": [
    "for zipcode in zips:\n",
    "    for i in range(50):\n",
    "        n = i * 20 + 1\n",
    "        params['offset'] = n\n",
    "        response = client.search(zipcode, **params)\n",
    "        bizs = response.businesses\n",
    "        for biz in bizs:\n",
    "            b = vars(biz)\n",
    "            b['location'] = vars(biz.location)\n",
    "            b['location']['coordinate'] = vars(biz.location['coordinate'])\n",
    "            results.append(b)\n",
    "        break\n",
    "            \n",
    "        if len(response.businesses) < 20:\n",
    "            break\n",
    "        else:\n",
    "            continue"
   ]
  },
  {
   "cell_type": "markdown",
   "metadata": {},
   "source": [
    "### Save the data to file\n",
    "Finally we save the data to a json file."
   ]
  },
  {
   "cell_type": "code",
   "execution_count": 113,
   "metadata": {
    "collapsed": false
   },
   "outputs": [],
   "source": [
    "with open('my_boston_restaurants.json', 'wb') as f:\n",
    "    results_json = json.dumps(results, indent=4, skipkeys=True, sort_keys=True)\n",
    "    f.write(results_json)"
   ]
  },
  {
   "cell_type": "markdown",
   "metadata": {},
   "source": [
    "It's done! Let's take some snacks and go to play!"
   ]
  }
 ],
 "metadata": {
  "kernelspec": {
   "display_name": "Python 2",
   "language": "python",
   "name": "python2"
  },
  "language_info": {
   "codemirror_mode": {
    "name": "ipython",
    "version": 2
   },
   "file_extension": ".py",
   "mimetype": "text/x-python",
   "name": "python",
   "nbconvert_exporter": "python",
   "pygments_lexer": "ipython2",
   "version": "2.7.10"
  }
 },
 "nbformat": 4,
 "nbformat_minor": 0
}
